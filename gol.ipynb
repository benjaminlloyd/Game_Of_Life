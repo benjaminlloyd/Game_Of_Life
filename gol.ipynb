{
 "cells": [
  {
   "cell_type": "code",
   "execution_count": 1,
   "metadata": {},
   "outputs": [],
   "source": [
    "import numpy as np\n",
    "import matplotlib.pyplot as plt\n",
    "import seaborn as sns\n",
    "import os\n",
    "import imageio\n",
    "import matplotlib.animation as animation"
   ]
  },
  {
   "cell_type": "code",
   "execution_count": 2,
   "metadata": {},
   "outputs": [],
   "source": [
    "def Base(N,D):\n",
    "    init_0=np.zeros((N,N))\n",
    "    init_sub=bb=np.random.choice([0,1],size=N**2,p=[1-D,D])\n",
    "    xx=0\n",
    "    for i in range(0,N):\n",
    "        for j in range(0,N):\n",
    "            if (init_sub[xx]==1):\n",
    "                init_0[i][j]=init_0[i][j]+init_sub[xx]\n",
    "            xx+=1\n",
    "        \n",
    "    init_0=init_0.tolist()\n",
    "    return init_0\n",
    "\n",
    "def Base2(N,D):\n",
    "    init_0=np.zeros((N,N))\n",
    "    xx=0\n",
    "    for i in range(0,N):\n",
    "        for j in range(0,N):\n",
    "            if xx%D==0:\n",
    "                init_0[i][j]=init_0[i][j]+1\n",
    "            xx+=1\n",
    "        \n",
    "    init_0=init_0.tolist()\n",
    "    return init_0\n",
    "\n",
    "def Base3(N):\n",
    "    A=[[0,0,0,0,0,0,0,0,0],[0,0,0,0,0,0,1,0,0],[0,0,0,0,1,0,1,0,0],[0,0,0,0,0,1,1,0,0],[0,0,0,0,0,0,0,0,0],[0,0,0,0,0,0,0,0,0],[0,0,0,0,0,0,0,0,0],[0,0,0,0,0,0,0,0,0],[0,0,0,0,0,0,0,0,0]]\n",
    "    return A"
   ]
  },
  {
   "cell_type": "code",
   "execution_count": 3,
   "metadata": {},
   "outputs": [],
   "source": [
    "def grab2(i,j,init): \n",
    "    a=i+1\n",
    "    b=j+1\n",
    "    if (i==len(init)-1):\n",
    "        a=0\n",
    "    if (j==len(init)-1):\n",
    "        b=0\n",
    "    return init[a][j]+init[i-1][j]+init[i][b]+init[i][j-1]+init[a][b]+init[a][j-1]+init[i-1][j-1]+init[i-1][b]            \n",
    "            \n",
    "            \n",
    "def natural_selection(init):\n",
    "    initnew=np.zeros((len(init),len(init)))\n",
    "    for i in range(0,len(init)):\n",
    "        for j in range(0,len(init)):\n",
    "            neighbors=grab2(i,j,init)\n",
    "            \n",
    "            if init[i][j]==1:\n",
    "                if neighbors==2 or neighbors==3:\n",
    "                    initnew[i][j]=1\n",
    "                elif neighbors<2 or neighbors>3:\n",
    "                    initnew[i][j]=0\n",
    "                    #print('satisfied')\n",
    "            if init[i][j]==0:\n",
    "                if neighbors==3:\n",
    "                    initnew[i][j]=1\n",
    "    return initnew        "
   ]
  },
  {
   "cell_type": "code",
   "execution_count": 10,
   "metadata": {},
   "outputs": [],
   "source": [
    "def recursive(init,N,x):\n",
    "    \"\"\"This is a recursive function\n",
    "    to find the factorial of an integer\"\"\"\n",
    "    if (x == N):\n",
    "        print('All Done')\n",
    "    else:    \n",
    "        plt.figure( figsize=(8,8) )\n",
    "        plt.imshow(init, cmap='binary', interpolation='nearest')\n",
    "        name=str(x)+'.png'\n",
    "        plt.savefig('Desktop/GOL/'+name)\n",
    "        plt.close()\n",
    "        #plt.ylabel(x)\n",
    "        initnew=natural_selection(init)\n",
    "        #print('break')\n",
    "        x=x+1\n",
    "        return recursive(initnew,N,x)\n",
    "    \n"
   ]
  },
  {
   "cell_type": "code",
   "execution_count": 11,
   "metadata": {
    "scrolled": false
   },
   "outputs": [
    {
     "name": "stdout",
     "output_type": "stream",
     "text": [
      "All Done\n"
     ]
    }
   ],
   "source": [
    "Ultrabase1=Base2(90,11)\n",
    "Ultrabase2=Base(90,0.1)\n",
    "Ultrabase=np.zeros((90,90))\n",
    "for i in range(0,90):\n",
    "    for j in range(0,90):\n",
    "        Ultrabase[i][j]=(Ultrabase1[i][j]+Ultrabase2[i][j])%2\n",
    "recursive(Ultrabase,100,0)"
   ]
  },
  {
   "cell_type": "code",
   "execution_count": 12,
   "metadata": {
    "scrolled": true
   },
   "outputs": [],
   "source": [
    "filenames=[]\n",
    "for i in range(0,100):\n",
    "    filenames.append(str(i)+'.png')"
   ]
  },
  {
   "cell_type": "code",
   "execution_count": 14,
   "metadata": {},
   "outputs": [],
   "source": [
    "import imageio\n",
    "images = []\n",
    "for filename in filenames:\n",
    "    images.append(imageio.imread('Desktop/GOL/'+filename))\n",
    "imageio.mimsave('Desktop/GOL/movie3.gif', images)"
   ]
  },
  {
   "cell_type": "code",
   "execution_count": null,
   "metadata": {},
   "outputs": [],
   "source": [
    "import os\n",
    "current_path = os.getcwd()"
   ]
  }
 ],
 "metadata": {
  "kernelspec": {
   "display_name": "Python 3 (ipykernel)",
   "language": "python",
   "name": "python3"
  },
  "language_info": {
   "codemirror_mode": {
    "name": "ipython",
    "version": 3
   },
   "file_extension": ".py",
   "mimetype": "text/x-python",
   "name": "python",
   "nbconvert_exporter": "python",
   "pygments_lexer": "ipython3",
   "version": "3.9.12"
  }
 },
 "nbformat": 4,
 "nbformat_minor": 4
}
