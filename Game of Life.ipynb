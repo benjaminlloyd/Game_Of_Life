{
 "cells": [
  {
   "cell_type": "code",
   "execution_count": 1,
   "metadata": {},
   "outputs": [
    {
     "data": {
      "text/html": [
       "<style>.container { width:90% !important; }</style>"
      ],
      "text/plain": [
       "<IPython.core.display.HTML object>"
      ]
     },
     "metadata": {},
     "output_type": "display_data"
    }
   ],
   "source": [
    "%matplotlib inline\n",
    "from matplotlib import pyplot as plt\n",
    "from IPython.display import clear_output\n",
    "import numpy as np\n",
    "import os\n",
    "import imageio\n",
    "from IPython.display import display, HTML\n",
    "display(HTML(\"<style>.container { width:90% !important; }</style>\"))"
   ]
  },
  {
   "cell_type": "code",
   "execution_count": 114,
   "metadata": {},
   "outputs": [],
   "source": [
    "def Base(N,D):\n",
    "    init_0=np.zeros((N,N))\n",
    "    init_sub=np.random.choice([0,1],size=N**2,p=[1-D,D])\n",
    "    xx=0\n",
    "    for i in range(0,N):\n",
    "        for j in range(0,N):\n",
    "            if (init_sub[xx]==1):\n",
    "                init_0[i][j]=init_0[i][j]+init_sub[xx]\n",
    "            xx+=1\n",
    "        \n",
    "    init_0=init_0.tolist()\n",
    "    return init_0\n",
    "def glider():\n",
    "    glider=np.array([[0,1,0],[0,0,1],[1,1,1]])\n",
    "    return glider\n",
    "\n",
    "def addglider(A,coord,coord2):\n",
    "        A=np.array(A)\n",
    "        A[coord:coord+3,coord2:coord2+3]+=glider()\n",
    "        return A\n",
    "    \n",
    "def Base2(N,D):\n",
    "    init_0=np.zeros((N,N))\n",
    "    xx=0\n",
    "    for i in range(0,N):\n",
    "        for j in range(0,N):\n",
    "            if xx%D==0:\n",
    "                init_0[i][j]=init_0[i][j]+1\n",
    "            xx+=1\n",
    "        \n",
    "    init_0=init_0.tolist()\n",
    "    return init_0\n",
    "\n",
    "\n",
    "def grab2(i,j,init): \n",
    "    a=i+1\n",
    "    b=j+1\n",
    "    if (i==len(init)-1):\n",
    "        a=0\n",
    "    if (j==len(init)-1):\n",
    "        b=0\n",
    "    return init[a][j]+init[i-1][j]+init[i][b]+init[i][j-1]+init[a][b]+init[a][j-1]+init[i-1][j-1]+init[i-1][b]            \n",
    "            \n",
    "            \n",
    "def natural_selection(init):\n",
    "    initnew=np.zeros((len(init),len(init)))\n",
    "    for i in range(0,len(init)):\n",
    "        for j in range(0,len(init)):\n",
    "            neighbors=grab2(i,j,init)\n",
    "            if init[i][j]==1:\n",
    "                if neighbors==2 or neighbors==3:\n",
    "                    initnew[i][j]=1\n",
    "                elif neighbors<2 or neighbors>3:\n",
    "                    initnew[i][j]=0\n",
    "                    #print('satisfied')\n",
    "            if init[i][j]==0:\n",
    "                if neighbors==3:\n",
    "                    initnew[i][j]=1\n",
    "    return initnew  \n",
    "def recursive(init,N):\n",
    "    \"\"\"This is a recursive function\n",
    "    to find the factorial of an integer\"\"\"\n",
    "    try:\n",
    "        while True:    \n",
    "            plt.figure( figsize=(10,10) )\n",
    "            plt.imshow(init, cmap='binary', interpolation='nearest')\n",
    "            plt.show()\n",
    "            clear_output(wait=True)\n",
    "            initnew=natural_selection(init)\n",
    "            return recursive(initnew,N)\n",
    "    except:\n",
    "        pass\n",
    "    finally:\n",
    "        pass\n",
    "    \n",
    "def spaceship():\n",
    "    A=np.array([[1,1,1,0,0,0,0,0,0,0,0,0,0,1,1,1],\n",
    "                [1,0,1,0,0,0,0,0,0,0,0,0,0,1,0,1],\n",
    "                [1,1,1,0,0,0,0,0,0,0,0,0,0,1,1,1],\n",
    "                [0,1,1,0,0,0,0,1,1,0,0,0,0,1,1,0],\n",
    "                [0,0,0,0,0,0,1,0,0,1,0,0,0,0,0,0],\n",
    "                [0,0,1,0,1,0,0,0,0,0,0,1,0,1,0,0],\n",
    "                [0,0,0,1,1,1,1,1,1,1,1,1,1,0,0,0],\n",
    "                [0,0,0,0,0,1,0,0,0,0,1,0,0,0,0,0],\n",
    "                [0,0,0,0,0,1,0,0,0,0,1,0,0,0,0,0],\n",
    "                [0,0,0,0,0,1,0,0,0,0,1,0,0,0,0,0]])\n",
    "    return A\n",
    "\n",
    "def addspaceship(A,coord,coord2):\n",
    "        A=np.array(A)\n",
    "        A[coord:coord+10,coord2:coord2+16]+=spaceship()\n",
    "        return A\n",
    "\n"
   ]
  },
  {
   "cell_type": "code",
   "execution_count": null,
   "metadata": {},
   "outputs": [
    {
     "data": {
      "image/png": "[encoded data removed]",
      "text/plain": [
       "<Figure size 720x720 with 1 Axes>"
      ]
     },
     "metadata": {
      "needs_background": "light"
     },
     "output_type": "display_data"
    }
   ],
   "source": [
    "recursive(addspaceship(\n",
    "    addspaceship(\n",
    "        addspaceship(\n",
    "            Base(100,0)\n",
    "            ,50,44),\n",
    "                60,64),\n",
    "                    60,24),100)"
   ]
  },
  {
   "cell_type": "code",
   "execution_count": null,
   "metadata": {},
   "outputs": [],
   "source": []
  }
 ],
 "metadata": {
  "kernelspec": {
   "display_name": "Python 3 (ipykernel)",
   "language": "python",
   "name": "python3"
  },
  "language_info": {
   "codemirror_mode": {
    "name": "ipython",
    "version": 3
   },
   "file_extension": ".py",
   "mimetype": "text/x-python",
   "name": "python",
   "nbconvert_exporter": "python",
   "pygments_lexer": "ipython3",
   "version": "3.9.12"
  }
 },
 "nbformat": 4,
 "nbformat_minor": 4
}
